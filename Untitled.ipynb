{
 "cells": [
  {
   "cell_type": "code",
   "execution_count": 1,
   "metadata": {},
   "outputs": [
    {
     "data": {
      "text/html": [
       "<div>\n",
       "<style scoped>\n",
       "    .dataframe tbody tr th:only-of-type {\n",
       "        vertical-align: middle;\n",
       "    }\n",
       "\n",
       "    .dataframe tbody tr th {\n",
       "        vertical-align: top;\n",
       "    }\n",
       "\n",
       "    .dataframe thead th {\n",
       "        text-align: right;\n",
       "    }\n",
       "</style>\n",
       "<table border=\"1\" class=\"dataframe\">\n",
       "  <thead>\n",
       "    <tr style=\"text-align: right;\">\n",
       "      <th></th>\n",
       "      <th>Year</th>\n",
       "      <th>Month</th>\n",
       "      <th>Day</th>\n",
       "      <th>DayOfWeek</th>\n",
       "      <th>Flight_Date</th>\n",
       "      <th>UniqueCarrier</th>\n",
       "      <th>Origin_Airport</th>\n",
       "      <th>Scheduled_Departure</th>\n",
       "      <th>Departure_Time</th>\n",
       "      <th>Dep_Delay</th>\n",
       "      <th>...</th>\n",
       "      <th>Distance</th>\n",
       "      <th>DistanceGroup</th>\n",
       "      <th>Carrier_Delay</th>\n",
       "      <th>WeatherDelay</th>\n",
       "      <th>NAS_Delay</th>\n",
       "      <th>Security_Delay</th>\n",
       "      <th>Late_Aircraft_Delay</th>\n",
       "      <th>DEPTIME_GROUP1</th>\n",
       "      <th>DEPTIME_GROUP2</th>\n",
       "      <th>DEPTIME_GROUP3</th>\n",
       "    </tr>\n",
       "  </thead>\n",
       "  <tbody>\n",
       "    <tr>\n",
       "      <th>0</th>\n",
       "      <td>2017</td>\n",
       "      <td>5</td>\n",
       "      <td>15</td>\n",
       "      <td>1</td>\n",
       "      <td>15/05/2017</td>\n",
       "      <td>DL</td>\n",
       "      <td>DFW</td>\n",
       "      <td>1605</td>\n",
       "      <td>1600</td>\n",
       "      <td>-5</td>\n",
       "      <td>...</td>\n",
       "      <td>731</td>\n",
       "      <td>3</td>\n",
       "      <td>0</td>\n",
       "      <td>0</td>\n",
       "      <td>0</td>\n",
       "      <td>0</td>\n",
       "      <td>0</td>\n",
       "      <td>1200-1800</td>\n",
       "      <td>1400-1600</td>\n",
       "      <td>1500-1600\\r</td>\n",
       "    </tr>\n",
       "    <tr>\n",
       "      <th>1</th>\n",
       "      <td>2017</td>\n",
       "      <td>5</td>\n",
       "      <td>15</td>\n",
       "      <td>1</td>\n",
       "      <td>15/05/2017</td>\n",
       "      <td>DL</td>\n",
       "      <td>MSP</td>\n",
       "      <td>700</td>\n",
       "      <td>656</td>\n",
       "      <td>-4</td>\n",
       "      <td>...</td>\n",
       "      <td>1276</td>\n",
       "      <td>6</td>\n",
       "      <td>0</td>\n",
       "      <td>0</td>\n",
       "      <td>0</td>\n",
       "      <td>0</td>\n",
       "      <td>0</td>\n",
       "      <td>0600-1200</td>\n",
       "      <td>0600-0800</td>\n",
       "      <td>0600-0700\\r</td>\n",
       "    </tr>\n",
       "    <tr>\n",
       "      <th>2</th>\n",
       "      <td>2017</td>\n",
       "      <td>5</td>\n",
       "      <td>15</td>\n",
       "      <td>1</td>\n",
       "      <td>15/05/2017</td>\n",
       "      <td>DL</td>\n",
       "      <td>ATL</td>\n",
       "      <td>2147</td>\n",
       "      <td>2147</td>\n",
       "      <td>0</td>\n",
       "      <td>...</td>\n",
       "      <td>350</td>\n",
       "      <td>2</td>\n",
       "      <td>0</td>\n",
       "      <td>0</td>\n",
       "      <td>0</td>\n",
       "      <td>0</td>\n",
       "      <td>0</td>\n",
       "      <td>1800-2359</td>\n",
       "      <td>2000-2200</td>\n",
       "      <td>2100-2200\\r</td>\n",
       "    </tr>\n",
       "    <tr>\n",
       "      <th>3</th>\n",
       "      <td>2017</td>\n",
       "      <td>5</td>\n",
       "      <td>15</td>\n",
       "      <td>1</td>\n",
       "      <td>15/05/2017</td>\n",
       "      <td>DL</td>\n",
       "      <td>MSP</td>\n",
       "      <td>1756</td>\n",
       "      <td>1757</td>\n",
       "      <td>1</td>\n",
       "      <td>...</td>\n",
       "      <td>1276</td>\n",
       "      <td>6</td>\n",
       "      <td>0</td>\n",
       "      <td>0</td>\n",
       "      <td>0</td>\n",
       "      <td>0</td>\n",
       "      <td>0</td>\n",
       "      <td>1200-1800</td>\n",
       "      <td>1600-1800</td>\n",
       "      <td>1700-1800\\r</td>\n",
       "    </tr>\n",
       "    <tr>\n",
       "      <th>4</th>\n",
       "      <td>2017</td>\n",
       "      <td>5</td>\n",
       "      <td>15</td>\n",
       "      <td>1</td>\n",
       "      <td>15/05/2017</td>\n",
       "      <td>DL</td>\n",
       "      <td>DEN</td>\n",
       "      <td>600</td>\n",
       "      <td>646</td>\n",
       "      <td>46</td>\n",
       "      <td>...</td>\n",
       "      <td>1199</td>\n",
       "      <td>5</td>\n",
       "      <td>26</td>\n",
       "      <td>0</td>\n",
       "      <td>0</td>\n",
       "      <td>0</td>\n",
       "      <td>0</td>\n",
       "      <td>0600-1200</td>\n",
       "      <td>0600-0800</td>\n",
       "      <td>0600-0700\\r</td>\n",
       "    </tr>\n",
       "  </tbody>\n",
       "</table>\n",
       "<p>5 rows × 24 columns</p>\n",
       "</div>"
      ],
      "text/plain": [
       "   Year  Month  Day  DayOfWeek Flight_Date UniqueCarrier Origin_Airport  \\\n",
       "0  2017      5   15          1  15/05/2017            DL            DFW   \n",
       "1  2017      5   15          1  15/05/2017            DL            MSP   \n",
       "2  2017      5   15          1  15/05/2017            DL            ATL   \n",
       "3  2017      5   15          1  15/05/2017            DL            MSP   \n",
       "4  2017      5   15          1  15/05/2017            DL            DEN   \n",
       "\n",
       "   Scheduled_Departure  Departure_Time  Dep_Delay  ...  Distance  \\\n",
       "0                 1605            1600         -5  ...       731   \n",
       "1                  700             656         -4  ...      1276   \n",
       "2                 2147            2147          0  ...       350   \n",
       "3                 1756            1757          1  ...      1276   \n",
       "4                  600             646         46  ...      1199   \n",
       "\n",
       "   DistanceGroup  Carrier_Delay  WeatherDelay  NAS_Delay  Security_Delay  \\\n",
       "0              3              0             0          0               0   \n",
       "1              6              0             0          0               0   \n",
       "2              2              0             0          0               0   \n",
       "3              6              0             0          0               0   \n",
       "4              5             26             0          0               0   \n",
       "\n",
       "   Late_Aircraft_Delay  DEPTIME_GROUP1  DEPTIME_GROUP2  DEPTIME_GROUP3  \n",
       "0                    0       1200-1800       1400-1600     1500-1600\\r  \n",
       "1                    0       0600-1200       0600-0800     0600-0700\\r  \n",
       "2                    0       1800-2359       2000-2200     2100-2200\\r  \n",
       "3                    0       1200-1800       1600-1800     1700-1800\\r  \n",
       "4                    0       0600-1200       0600-0800     0600-0700\\r  \n",
       "\n",
       "[5 rows x 24 columns]"
      ]
     },
     "execution_count": 1,
     "metadata": {},
     "output_type": "execute_result"
    }
   ],
   "source": [
    "import pandas as pd\n",
    "base_dataset=pd.read_csv(\"Desktop\\\\fl_samp.csv\")\n",
    "base_dataset.head()"
   ]
  },
  {
   "cell_type": "code",
   "execution_count": 5,
   "metadata": {},
   "outputs": [],
   "source": [
    "import pyautogui\n",
    "import os\n",
    "os.startfile(\"Desktop\\\\fl_samp.csv\")\n",
    "myScreenshot = pyautogui.screenshot()\n",
    "myScreenshot.save(r'Desktop\\file name.png')"
   ]
  },
  {
   "cell_type": "code",
   "execution_count": null,
   "metadata": {},
   "outputs": [],
   "source": [
    "import subprocess\n",
    "import time\n",
    "argument = '...'\n",
    "proc = subprocess.Popen(['python', 'Desktop\\\\fl_samp.csv', argument], shell=False)\n",
    "time.sleep(3) # <-- There's no time.wait, but time.sleep.\n",
    "pid = proc.pid # <--- access `pid` attribute to get the pid of the child process."
   ]
  },
  {
   "cell_type": "code",
   "execution_count": 6,
   "metadata": {},
   "outputs": [],
   "source": [
    "fo = open(\"Desktop\\\\fl_samp.csv\", \"wb\")"
   ]
  },
  {
   "cell_type": "code",
   "execution_count": 7,
   "metadata": {},
   "outputs": [
    {
     "data": {
      "text/plain": [
       "<_io.BufferedWriter name='Desktop\\\\fl_samp.csv'>"
      ]
     },
     "execution_count": 7,
     "metadata": {},
     "output_type": "execute_result"
    }
   ],
   "source": [
    "fo"
   ]
  },
  {
   "cell_type": "code",
   "execution_count": 11,
   "metadata": {},
   "outputs": [
    {
     "data": {
      "text/plain": [
       "True"
      ]
     },
     "execution_count": 11,
     "metadata": {},
     "output_type": "execute_result"
    }
   ],
   "source": [
    "import webbrowser\n",
    "webbrowser.open(\"Desktop\\\\fl_samp.csv\")"
   ]
  },
  {
   "cell_type": "code",
   "execution_count": 30,
   "metadata": {},
   "outputs": [],
   "source": [
    "import time\n",
    "import signal\n",
    "import os\n",
    "def start():\n",
    "    pid = os.fork() \n",
    "    print(pid)\n",
    "    if pid == 0:\n",
    "        os.startfile(\"Desktop\\\\fl_samp.csv\")\n",
    "        time.sleep(5)\n",
    "        myScreenshot = pyautogui.screenshot()\n",
    "        myScreenshot.save(r'Desktop\\file name.png')\n",
    "        os.kill(pid, signal.SIGKILL)"
   ]
  },
  {
   "cell_type": "code",
   "execution_count": 48,
   "metadata": {},
   "outputs": [],
   "source": [
    "os.chdir('C:\\\\Users\\\\M1037669')"
   ]
  },
  {
   "cell_type": "code",
   "execution_count": 50,
   "metadata": {},
   "outputs": [],
   "source": [
    "from multiprocessing import Process\n",
    "\n",
    "def f():\n",
    "    print('start')\n",
    "    os.startfile(\"Desktop\\\\fl_samp.csv\")\n",
    "    time.sleep(5)\n",
    "    myScreenshot = pyautogui.screenshot()\n",
    "    myScreenshot.save(r'Desktop\\file name.png')\n",
    "    \n",
    "\n"
   ]
  },
  {
   "cell_type": "code",
   "execution_count": 53,
   "metadata": {},
   "outputs": [
    {
     "name": "stdout",
     "output_type": "stream",
     "text": [
      "14416\n",
      "9004\n"
     ]
    }
   ],
   "source": [
    "p1= Process(target=f)\n",
    "p1.start()\n",
    "p.join()\n",
    "print(os.getpid())\n",
    "print(os.getppid())"
   ]
  },
  {
   "cell_type": "code",
   "execution_count": null,
   "metadata": {},
   "outputs": [],
   "source": []
  }
 ],
 "metadata": {
  "kernelspec": {
   "display_name": "Python 3",
   "language": "python",
   "name": "python3"
  },
  "language_info": {
   "codemirror_mode": {
    "name": "ipython",
    "version": 3
   },
   "file_extension": ".py",
   "mimetype": "text/x-python",
   "name": "python",
   "nbconvert_exporter": "python",
   "pygments_lexer": "ipython3",
   "version": "3.7.3"
  }
 },
 "nbformat": 4,
 "nbformat_minor": 2
}
