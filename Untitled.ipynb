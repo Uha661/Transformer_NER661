{
  "nbformat": 4,
  "nbformat_minor": 0,
  "metadata": {
    "kernelspec": {
      "display_name": "Python 3",
      "language": "python",
      "name": "python3"
    },
    "language_info": {
      "codemirror_mode": {
        "name": "ipython",
        "version": 3
      },
      "file_extension": ".py",
      "mimetype": "text/x-python",
      "name": "python",
      "nbconvert_exporter": "python",
      "pygments_lexer": "ipython3",
      "version": "3.7.3"
    },
    "colab": {
      "name": "Untitled.ipynb",
      "provenance": [],
      "include_colab_link": true
    }
  },
  "cells": [
    {
      "cell_type": "markdown",
      "metadata": {
        "id": "view-in-github",
        "colab_type": "text"
      },
      "source": [
        "<a href=\"https://colab.research.google.com/github/Uha661/Transformer_NER661/blob/main/Untitled.ipynb\" target=\"_parent\"><img src=\"https://colab.research.google.com/assets/colab-badge.svg\" alt=\"Open In Colab\"/></a>"
      ]
    },
    {
      "cell_type": "code",
      "metadata": {
        "id": "QrJ9G5LzOxFX",
        "outputId": "dcf1b5fc-5e3c-404b-8c68-3e796a9f5d22",
        "colab": {
          "base_uri": "https://localhost:8080/"
        }
      },
      "source": [
        "!pip install autocorrect\r\n"
      ],
      "execution_count": 1,
      "outputs": [
        {
          "output_type": "stream",
          "text": [
            "Collecting autocorrect\n",
            "\u001b[?25l  Downloading https://files.pythonhosted.org/packages/a0/71/eb8c1f83439dfe6cbe1edb03be1f1110b242503b61950e7c292dd557c23e/autocorrect-2.2.2.tar.gz (621kB)\n",
            "\r\u001b[K     |▌                               | 10kB 13.8MB/s eta 0:00:01\r\u001b[K     |█                               | 20kB 18.8MB/s eta 0:00:01\r\u001b[K     |█▋                              | 30kB 10.7MB/s eta 0:00:01\r\u001b[K     |██                              | 40kB 8.7MB/s eta 0:00:01\r\u001b[K     |██▋                             | 51kB 4.5MB/s eta 0:00:01\r\u001b[K     |███▏                            | 61kB 4.4MB/s eta 0:00:01\r\u001b[K     |███▊                            | 71kB 4.9MB/s eta 0:00:01\r\u001b[K     |████▏                           | 81kB 5.2MB/s eta 0:00:01\r\u001b[K     |████▊                           | 92kB 5.2MB/s eta 0:00:01\r\u001b[K     |█████▎                          | 102kB 5.6MB/s eta 0:00:01\r\u001b[K     |█████▉                          | 112kB 5.6MB/s eta 0:00:01\r\u001b[K     |██████▎                         | 122kB 5.6MB/s eta 0:00:01\r\u001b[K     |██████▉                         | 133kB 5.6MB/s eta 0:00:01\r\u001b[K     |███████▍                        | 143kB 5.6MB/s eta 0:00:01\r\u001b[K     |████████                        | 153kB 5.6MB/s eta 0:00:01\r\u001b[K     |████████▍                       | 163kB 5.6MB/s eta 0:00:01\r\u001b[K     |█████████                       | 174kB 5.6MB/s eta 0:00:01\r\u001b[K     |█████████▌                      | 184kB 5.6MB/s eta 0:00:01\r\u001b[K     |██████████                      | 194kB 5.6MB/s eta 0:00:01\r\u001b[K     |██████████▌                     | 204kB 5.6MB/s eta 0:00:01\r\u001b[K     |███████████                     | 215kB 5.6MB/s eta 0:00:01\r\u001b[K     |███████████▋                    | 225kB 5.6MB/s eta 0:00:01\r\u001b[K     |████████████▏                   | 235kB 5.6MB/s eta 0:00:01\r\u001b[K     |████████████▋                   | 245kB 5.6MB/s eta 0:00:01\r\u001b[K     |█████████████▏                  | 256kB 5.6MB/s eta 0:00:01\r\u001b[K     |█████████████▊                  | 266kB 5.6MB/s eta 0:00:01\r\u001b[K     |██████████████▎                 | 276kB 5.6MB/s eta 0:00:01\r\u001b[K     |██████████████▊                 | 286kB 5.6MB/s eta 0:00:01\r\u001b[K     |███████████████▎                | 296kB 5.6MB/s eta 0:00:01\r\u001b[K     |███████████████▉                | 307kB 5.6MB/s eta 0:00:01\r\u001b[K     |████████████████▍               | 317kB 5.6MB/s eta 0:00:01\r\u001b[K     |████████████████▉               | 327kB 5.6MB/s eta 0:00:01\r\u001b[K     |█████████████████▍              | 337kB 5.6MB/s eta 0:00:01\r\u001b[K     |██████████████████              | 348kB 5.6MB/s eta 0:00:01\r\u001b[K     |██████████████████▌             | 358kB 5.6MB/s eta 0:00:01\r\u001b[K     |███████████████████             | 368kB 5.6MB/s eta 0:00:01\r\u001b[K     |███████████████████▌            | 378kB 5.6MB/s eta 0:00:01\r\u001b[K     |████████████████████            | 389kB 5.6MB/s eta 0:00:01\r\u001b[K     |████████████████████▌           | 399kB 5.6MB/s eta 0:00:01\r\u001b[K     |█████████████████████           | 409kB 5.6MB/s eta 0:00:01\r\u001b[K     |█████████████████████▋          | 419kB 5.6MB/s eta 0:00:01\r\u001b[K     |██████████████████████▏         | 430kB 5.6MB/s eta 0:00:01\r\u001b[K     |██████████████████████▋         | 440kB 5.6MB/s eta 0:00:01\r\u001b[K     |███████████████████████▏        | 450kB 5.6MB/s eta 0:00:01\r\u001b[K     |███████████████████████▊        | 460kB 5.6MB/s eta 0:00:01\r\u001b[K     |████████████████████████▎       | 471kB 5.6MB/s eta 0:00:01\r\u001b[K     |████████████████████████▊       | 481kB 5.6MB/s eta 0:00:01\r\u001b[K     |█████████████████████████▎      | 491kB 5.6MB/s eta 0:00:01\r\u001b[K     |█████████████████████████▉      | 501kB 5.6MB/s eta 0:00:01\r\u001b[K     |██████████████████████████▍     | 512kB 5.6MB/s eta 0:00:01\r\u001b[K     |██████████████████████████▉     | 522kB 5.6MB/s eta 0:00:01\r\u001b[K     |███████████████████████████▍    | 532kB 5.6MB/s eta 0:00:01\r\u001b[K     |████████████████████████████    | 542kB 5.6MB/s eta 0:00:01\r\u001b[K     |████████████████████████████▌   | 552kB 5.6MB/s eta 0:00:01\r\u001b[K     |█████████████████████████████   | 563kB 5.6MB/s eta 0:00:01\r\u001b[K     |█████████████████████████████▌  | 573kB 5.6MB/s eta 0:00:01\r\u001b[K     |██████████████████████████████  | 583kB 5.6MB/s eta 0:00:01\r\u001b[K     |██████████████████████████████▋ | 593kB 5.6MB/s eta 0:00:01\r\u001b[K     |███████████████████████████████ | 604kB 5.6MB/s eta 0:00:01\r\u001b[K     |███████████████████████████████▋| 614kB 5.6MB/s eta 0:00:01\r\u001b[K     |████████████████████████████████| 624kB 5.6MB/s \n",
            "\u001b[?25hBuilding wheels for collected packages: autocorrect\n",
            "  Building wheel for autocorrect (setup.py) ... \u001b[?25l\u001b[?25hdone\n",
            "  Created wheel for autocorrect: filename=autocorrect-2.2.2-cp36-none-any.whl size=621491 sha256=e36008a4c83326c5ee3c831d4fc791de21540496bf97690651edf4f72a18154e\n",
            "  Stored in directory: /root/.cache/pip/wheels/b4/0b/7d/98268d64c8697425f712c897265394486542141bbe4de319d6\n",
            "Successfully built autocorrect\n",
            "Installing collected packages: autocorrect\n",
            "Successfully installed autocorrect-2.2.2\n"
          ],
          "name": "stdout"
        }
      ]
    },
    {
      "cell_type": "code",
      "metadata": {
        "id": "F_JDo1IvY0il"
      },
      "source": [
        "import numpy as np\r\n",
        "import pandas as pd"
      ],
      "execution_count": 2,
      "outputs": []
    },
    {
      "cell_type": "code",
      "metadata": {
        "id": "P7ynzsYDY5hE"
      },
      "source": [
        "data=pd.read_csv(\"/content/reviews.csv\")"
      ],
      "execution_count": 3,
      "outputs": []
    },
    {
      "cell_type": "code",
      "metadata": {
        "id": "91X95aFkZARL",
        "outputId": "5a8d41db-17ce-46af-b6a9-7c4fa1116da4",
        "colab": {
          "base_uri": "https://localhost:8080/",
          "height": 202
        }
      },
      "source": [
        "data.head()"
      ],
      "execution_count": 4,
      "outputs": [
        {
          "output_type": "execute_result",
          "data": {
            "text/html": [
              "<div>\n",
              "<style scoped>\n",
              "    .dataframe tbody tr th:only-of-type {\n",
              "        vertical-align: middle;\n",
              "    }\n",
              "\n",
              "    .dataframe tbody tr th {\n",
              "        vertical-align: top;\n",
              "    }\n",
              "\n",
              "    .dataframe thead th {\n",
              "        text-align: right;\n",
              "    }\n",
              "</style>\n",
              "<table border=\"1\" class=\"dataframe\">\n",
              "  <thead>\n",
              "    <tr style=\"text-align: right;\">\n",
              "      <th></th>\n",
              "      <th>Id</th>\n",
              "      <th>Review</th>\n",
              "      <th>Label</th>\n",
              "    </tr>\n",
              "  </thead>\n",
              "  <tbody>\n",
              "    <tr>\n",
              "      <th>0</th>\n",
              "      <td>0</td>\n",
              "      <td>good and interesting</td>\n",
              "      <td>5</td>\n",
              "    </tr>\n",
              "    <tr>\n",
              "      <th>1</th>\n",
              "      <td>1</td>\n",
              "      <td>This class is very helpful to me. Currently, I...</td>\n",
              "      <td>5</td>\n",
              "    </tr>\n",
              "    <tr>\n",
              "      <th>2</th>\n",
              "      <td>2</td>\n",
              "      <td>like!Prof and TAs are helpful and the discussi...</td>\n",
              "      <td>5</td>\n",
              "    </tr>\n",
              "    <tr>\n",
              "      <th>3</th>\n",
              "      <td>3</td>\n",
              "      <td>Easy to follow and includes a lot basic and im...</td>\n",
              "      <td>5</td>\n",
              "    </tr>\n",
              "    <tr>\n",
              "      <th>4</th>\n",
              "      <td>4</td>\n",
              "      <td>Really nice teacher!I could got the point eazl...</td>\n",
              "      <td>4</td>\n",
              "    </tr>\n",
              "  </tbody>\n",
              "</table>\n",
              "</div>"
            ],
            "text/plain": [
              "   Id                                             Review  Label\n",
              "0   0                               good and interesting      5\n",
              "1   1  This class is very helpful to me. Currently, I...      5\n",
              "2   2  like!Prof and TAs are helpful and the discussi...      5\n",
              "3   3  Easy to follow and includes a lot basic and im...      5\n",
              "4   4  Really nice teacher!I could got the point eazl...      4"
            ]
          },
          "metadata": {
            "tags": []
          },
          "execution_count": 4
        }
      ]
    },
    {
      "cell_type": "code",
      "metadata": {
        "id": "SlgEjhrLZCMx"
      },
      "source": [
        "train_df = pd.DataFrame({\r\n",
        "    'id':range(len(data)),\r\n",
        "    'label':data['Label'],\r\n",
        "    'alpha':['a']*data.shape[0],\r\n",
        "    'text': data[\"Review\"].replace(r'\\n', ' ', regex=True)\r\n",
        "})"
      ],
      "execution_count": 8,
      "outputs": []
    },
    {
      "cell_type": "code",
      "metadata": {
        "id": "Mdjv5D0LZZNF",
        "outputId": "60da0ff4-6dfa-4758-9b2a-2a9b4b5cf3a8",
        "colab": {
          "base_uri": "https://localhost:8080/",
          "height": 202
        }
      },
      "source": [
        "train_df.head()"
      ],
      "execution_count": 9,
      "outputs": [
        {
          "output_type": "execute_result",
          "data": {
            "text/html": [
              "<div>\n",
              "<style scoped>\n",
              "    .dataframe tbody tr th:only-of-type {\n",
              "        vertical-align: middle;\n",
              "    }\n",
              "\n",
              "    .dataframe tbody tr th {\n",
              "        vertical-align: top;\n",
              "    }\n",
              "\n",
              "    .dataframe thead th {\n",
              "        text-align: right;\n",
              "    }\n",
              "</style>\n",
              "<table border=\"1\" class=\"dataframe\">\n",
              "  <thead>\n",
              "    <tr style=\"text-align: right;\">\n",
              "      <th></th>\n",
              "      <th>id</th>\n",
              "      <th>label</th>\n",
              "      <th>alpha</th>\n",
              "      <th>text</th>\n",
              "    </tr>\n",
              "  </thead>\n",
              "  <tbody>\n",
              "    <tr>\n",
              "      <th>0</th>\n",
              "      <td>0</td>\n",
              "      <td>5</td>\n",
              "      <td>a</td>\n",
              "      <td>good and interesting</td>\n",
              "    </tr>\n",
              "    <tr>\n",
              "      <th>1</th>\n",
              "      <td>1</td>\n",
              "      <td>5</td>\n",
              "      <td>a</td>\n",
              "      <td>This class is very helpful to me. Currently, I...</td>\n",
              "    </tr>\n",
              "    <tr>\n",
              "      <th>2</th>\n",
              "      <td>2</td>\n",
              "      <td>5</td>\n",
              "      <td>a</td>\n",
              "      <td>like!Prof and TAs are helpful and the discussi...</td>\n",
              "    </tr>\n",
              "    <tr>\n",
              "      <th>3</th>\n",
              "      <td>3</td>\n",
              "      <td>5</td>\n",
              "      <td>a</td>\n",
              "      <td>Easy to follow and includes a lot basic and im...</td>\n",
              "    </tr>\n",
              "    <tr>\n",
              "      <th>4</th>\n",
              "      <td>4</td>\n",
              "      <td>4</td>\n",
              "      <td>a</td>\n",
              "      <td>Really nice teacher!I could got the point eazl...</td>\n",
              "    </tr>\n",
              "  </tbody>\n",
              "</table>\n",
              "</div>"
            ],
            "text/plain": [
              "   id  label alpha                                               text\n",
              "0   0      5     a                               good and interesting\n",
              "1   1      5     a  This class is very helpful to me. Currently, I...\n",
              "2   2      5     a  like!Prof and TAs are helpful and the discussi...\n",
              "3   3      5     a  Easy to follow and includes a lot basic and im...\n",
              "4   4      4     a  Really nice teacher!I could got the point eazl..."
            ]
          },
          "metadata": {
            "tags": []
          },
          "execution_count": 9
        }
      ]
    },
    {
      "cell_type": "code",
      "metadata": {
        "id": "fpEO1c2iZpaa"
      },
      "source": [
        "train_df.to_csv('/content/train.tsv', sep='\\t', index=False, header=False)"
      ],
      "execution_count": 10,
      "outputs": []
    },
    {
      "cell_type": "code",
      "metadata": {
        "id": "W9E2v3r4Z4k_"
      },
      "source": [
        "from sklearn.model_selection import train_test_split\r\n",
        "from sklearn.metrics import accuracy_score\r\n",
        "x_train, x_test, y_train,y_test = train_test_split(train_df[['id','text']],train_df[['label']], stratify=train_df['label'],\r\n",
        "                                                   test_size=0.2, random_state=42)\r\n",
        "Train=pd.concat([x_train['text'],y_train['label']],axis=1)\r\n",
        "Test=pd.concat([x_test['text'],y_test['label']],axis=1)"
      ],
      "execution_count": 15,
      "outputs": []
    },
    {
      "cell_type": "code",
      "metadata": {
        "id": "xQU3uXo8aTDz",
        "outputId": "71ce6c91-9314-4d6b-8146-8a0784515f0c",
        "colab": {
          "base_uri": "https://localhost:8080/",
          "height": 202
        }
      },
      "source": [
        "Train.head()"
      ],
      "execution_count": 16,
      "outputs": [
        {
          "output_type": "execute_result",
          "data": {
            "text/html": [
              "<div>\n",
              "<style scoped>\n",
              "    .dataframe tbody tr th:only-of-type {\n",
              "        vertical-align: middle;\n",
              "    }\n",
              "\n",
              "    .dataframe tbody tr th {\n",
              "        vertical-align: top;\n",
              "    }\n",
              "\n",
              "    .dataframe thead th {\n",
              "        text-align: right;\n",
              "    }\n",
              "</style>\n",
              "<table border=\"1\" class=\"dataframe\">\n",
              "  <thead>\n",
              "    <tr style=\"text-align: right;\">\n",
              "      <th></th>\n",
              "      <th>text</th>\n",
              "      <th>label</th>\n",
              "    </tr>\n",
              "  </thead>\n",
              "  <tbody>\n",
              "    <tr>\n",
              "      <th>38969</th>\n",
              "      <td>Definitely the best way to introduce someone i...</td>\n",
              "      <td>5</td>\n",
              "    </tr>\n",
              "    <tr>\n",
              "      <th>67917</th>\n",
              "      <td>Very good instructors and the home-works thoro...</td>\n",
              "      <td>5</td>\n",
              "    </tr>\n",
              "    <tr>\n",
              "      <th>39398</th>\n",
              "      <td>In this course, Randy Hlavac does a deeper div...</td>\n",
              "      <td>4</td>\n",
              "    </tr>\n",
              "    <tr>\n",
              "      <th>22830</th>\n",
              "      <td>I enjoyed this course. I somehow remember the ...</td>\n",
              "      <td>5</td>\n",
              "    </tr>\n",
              "    <tr>\n",
              "      <th>22757</th>\n",
              "      <td>Easy to pick up and helpful for me to start de...</td>\n",
              "      <td>5</td>\n",
              "    </tr>\n",
              "  </tbody>\n",
              "</table>\n",
              "</div>"
            ],
            "text/plain": [
              "                                                    text  label\n",
              "38969  Definitely the best way to introduce someone i...      5\n",
              "67917  Very good instructors and the home-works thoro...      5\n",
              "39398  In this course, Randy Hlavac does a deeper div...      4\n",
              "22830  I enjoyed this course. I somehow remember the ...      5\n",
              "22757  Easy to pick up and helpful for me to start de...      5"
            ]
          },
          "metadata": {
            "tags": []
          },
          "execution_count": 16
        }
      ]
    },
    {
      "cell_type": "code",
      "metadata": {
        "id": "dA9qpWjMauIM",
        "outputId": "4248988c-86f9-4305-9859-1dcceb9b3e90",
        "colab": {
          "base_uri": "https://localhost:8080/",
          "height": 202
        }
      },
      "source": [
        "Test.head()"
      ],
      "execution_count": 17,
      "outputs": [
        {
          "output_type": "execute_result",
          "data": {
            "text/html": [
              "<div>\n",
              "<style scoped>\n",
              "    .dataframe tbody tr th:only-of-type {\n",
              "        vertical-align: middle;\n",
              "    }\n",
              "\n",
              "    .dataframe tbody tr th {\n",
              "        vertical-align: top;\n",
              "    }\n",
              "\n",
              "    .dataframe thead th {\n",
              "        text-align: right;\n",
              "    }\n",
              "</style>\n",
              "<table border=\"1\" class=\"dataframe\">\n",
              "  <thead>\n",
              "    <tr style=\"text-align: right;\">\n",
              "      <th></th>\n",
              "      <th>text</th>\n",
              "      <th>label</th>\n",
              "    </tr>\n",
              "  </thead>\n",
              "  <tbody>\n",
              "    <tr>\n",
              "      <th>92031</th>\n",
              "      <td>Very informative. Need more assignments/proble...</td>\n",
              "      <td>4</td>\n",
              "    </tr>\n",
              "    <tr>\n",
              "      <th>14216</th>\n",
              "      <td>It is an introductory course which will help y...</td>\n",
              "      <td>5</td>\n",
              "    </tr>\n",
              "    <tr>\n",
              "      <th>97736</th>\n",
              "      <td>Great course. My suggestion is to ensure that ...</td>\n",
              "      <td>5</td>\n",
              "    </tr>\n",
              "    <tr>\n",
              "      <th>23168</th>\n",
              "      <td>Simple, succinct and very useful information. ...</td>\n",
              "      <td>5</td>\n",
              "    </tr>\n",
              "    <tr>\n",
              "      <th>90978</th>\n",
              "      <td>Really good course,you will find so much valua...</td>\n",
              "      <td>5</td>\n",
              "    </tr>\n",
              "  </tbody>\n",
              "</table>\n",
              "</div>"
            ],
            "text/plain": [
              "                                                    text  label\n",
              "92031  Very informative. Need more assignments/proble...      4\n",
              "14216  It is an introductory course which will help y...      5\n",
              "97736  Great course. My suggestion is to ensure that ...      5\n",
              "23168  Simple, succinct and very useful information. ...      5\n",
              "90978  Really good course,you will find so much valua...      5"
            ]
          },
          "metadata": {
            "tags": []
          },
          "execution_count": 17
        }
      ]
    },
    {
      "cell_type": "code",
      "metadata": {
        "id": "boCsb9XMawK4",
        "outputId": "f24d1b3d-c2fa-443c-b0f7-3ec9e4a3a662",
        "colab": {
          "base_uri": "https://localhost:8080/"
        }
      },
      "source": [
        "print(Train.shape,Test.shape)"
      ],
      "execution_count": 18,
      "outputs": [
        {
          "output_type": "stream",
          "text": [
            "(85614, 2) (21404, 2)\n"
          ],
          "name": "stdout"
        }
      ]
    },
    {
      "cell_type": "code",
      "metadata": {
        "id": "FIIPwtSYdbxf"
      },
      "source": [
        ""
      ],
      "execution_count": null,
      "outputs": []
    },
    {
      "cell_type": "code",
      "metadata": {
        "id": "JUPWBU1Ea1Pk",
        "outputId": "f99b74ec-b537-4bc3-adc4-4b2413226364",
        "colab": {
          "base_uri": "https://localhost:8080/",
          "height": 357
        }
      },
      "source": [
        "from pytorch_transformers import (WEIGHTS_NAME, BertConfig, BertForSequenceClassification, BertTokenizer,\r\n",
        "                                  XLMConfig, XLMForSequenceClassification, XLMTokenizer, \r\n",
        "                                  XLNetConfig, XLNetForSequenceClassification, XLNetTokenizer,\r\n",
        "                                  RobertaConfig, RobertaForSequenceClassification, RobertaTokenizer)\r\n",
        "\r\n",
        "from pytorch_transformers import AdamW, WarmupLinearSchedule\r\n",
        "\r\n",
        "from utils import (convert_examples_to_features,\r\n",
        "                        output_modes, processors)\r\n"
      ],
      "execution_count": 23,
      "outputs": [
        {
          "output_type": "error",
          "ename": "ImportError",
          "evalue": "ignored",
          "traceback": [
            "\u001b[0;31m---------------------------------------------------------------------------\u001b[0m",
            "\u001b[0;31mImportError\u001b[0m                               Traceback (most recent call last)",
            "\u001b[0;32m<ipython-input-23-7d17f9e8e3d0>\u001b[0m in \u001b[0;36m<module>\u001b[0;34m()\u001b[0m\n\u001b[1;32m      6\u001b[0m \u001b[0;32mfrom\u001b[0m \u001b[0mpytorch_transformers\u001b[0m \u001b[0;32mimport\u001b[0m \u001b[0mAdamW\u001b[0m\u001b[0;34m,\u001b[0m \u001b[0mWarmupLinearSchedule\u001b[0m\u001b[0;34m\u001b[0m\u001b[0;34m\u001b[0m\u001b[0m\n\u001b[1;32m      7\u001b[0m \u001b[0;34m\u001b[0m\u001b[0m\n\u001b[0;32m----> 8\u001b[0;31m from utils import (convert_examples_to_features,\n\u001b[0m\u001b[1;32m      9\u001b[0m                         output_modes, processors)\n",
            "\u001b[0;31mImportError\u001b[0m: cannot import name 'convert_examples_to_features'",
            "",
            "\u001b[0;31m---------------------------------------------------------------------------\u001b[0;32m\nNOTE: If your import is failing due to a missing package, you can\nmanually install dependencies using either !pip or !apt.\n\nTo view examples of installing some common dependencies, click the\n\"Open Examples\" button below.\n\u001b[0;31m---------------------------------------------------------------------------\u001b[0m\n"
          ]
        }
      ]
    },
    {
      "cell_type": "code",
      "metadata": {
        "id": "vqjYuNEqb1Ty",
        "outputId": "41da1276-0aa4-4975-faf8-337f131cf91f",
        "colab": {
          "base_uri": "https://localhost:8080/"
        }
      },
      "source": [
        "!pip install pytorch-transformers"
      ],
      "execution_count": 20,
      "outputs": [
        {
          "output_type": "stream",
          "text": [
            "Collecting pytorch-transformers\n",
            "\u001b[?25l  Downloading https://files.pythonhosted.org/packages/a3/b7/d3d18008a67e0b968d1ab93ad444fc05699403fa662f634b2f2c318a508b/pytorch_transformers-1.2.0-py3-none-any.whl (176kB)\n",
            "\r\u001b[K     |█▉                              | 10kB 13.9MB/s eta 0:00:01\r\u001b[K     |███▊                            | 20kB 18.7MB/s eta 0:00:01\r\u001b[K     |█████▋                          | 30kB 21.1MB/s eta 0:00:01\r\u001b[K     |███████▍                        | 40kB 20.1MB/s eta 0:00:01\r\u001b[K     |█████████▎                      | 51kB 3.9MB/s eta 0:00:01\r\u001b[K     |███████████▏                    | 61kB 4.5MB/s eta 0:00:01\r\u001b[K     |█████████████                   | 71kB 5.1MB/s eta 0:00:01\r\u001b[K     |██████████████▉                 | 81kB 5.4MB/s eta 0:00:01\r\u001b[K     |████████████████▊               | 92kB 6.0MB/s eta 0:00:01\r\u001b[K     |██████████████████▋             | 102kB 6.0MB/s eta 0:00:01\r\u001b[K     |████████████████████▍           | 112kB 6.0MB/s eta 0:00:01\r\u001b[K     |██████████████████████▎         | 122kB 6.0MB/s eta 0:00:01\r\u001b[K     |████████████████████████▏       | 133kB 6.0MB/s eta 0:00:01\r\u001b[K     |██████████████████████████      | 143kB 6.0MB/s eta 0:00:01\r\u001b[K     |███████████████████████████▉    | 153kB 6.0MB/s eta 0:00:01\r\u001b[K     |█████████████████████████████▊  | 163kB 6.0MB/s eta 0:00:01\r\u001b[K     |███████████████████████████████▋| 174kB 6.0MB/s eta 0:00:01\r\u001b[K     |████████████████████████████████| 184kB 6.0MB/s \n",
            "\u001b[?25hRequirement already satisfied: requests in /usr/local/lib/python3.6/dist-packages (from pytorch-transformers) (2.23.0)\n",
            "Requirement already satisfied: regex in /usr/local/lib/python3.6/dist-packages (from pytorch-transformers) (2019.12.20)\n",
            "Requirement already satisfied: tqdm in /usr/local/lib/python3.6/dist-packages (from pytorch-transformers) (4.41.1)\n",
            "Collecting boto3\n",
            "\u001b[?25l  Downloading https://files.pythonhosted.org/packages/76/69/1ae307bbfbc3df15778ad1568f9b2def472fbcc07ec81479d148370abf89/boto3-1.16.33.tar.gz (97kB)\n",
            "\u001b[K     |████████████████████████████████| 102kB 8.7MB/s \n",
            "\u001b[?25hRequirement already satisfied: torch>=1.0.0 in /usr/local/lib/python3.6/dist-packages (from pytorch-transformers) (1.7.0+cu101)\n",
            "Collecting sacremoses\n",
            "\u001b[?25l  Downloading https://files.pythonhosted.org/packages/7d/34/09d19aff26edcc8eb2a01bed8e98f13a1537005d31e95233fd48216eed10/sacremoses-0.0.43.tar.gz (883kB)\n",
            "\u001b[K     |████████████████████████████████| 890kB 36.9MB/s \n",
            "\u001b[?25hRequirement already satisfied: numpy in /usr/local/lib/python3.6/dist-packages (from pytorch-transformers) (1.18.5)\n",
            "Collecting sentencepiece\n",
            "\u001b[?25l  Downloading https://files.pythonhosted.org/packages/e5/2d/6d4ca4bef9a67070fa1cac508606328329152b1df10bdf31fb6e4e727894/sentencepiece-0.1.94-cp36-cp36m-manylinux2014_x86_64.whl (1.1MB)\n",
            "\u001b[K     |████████████████████████████████| 1.1MB 39.4MB/s \n",
            "\u001b[?25hRequirement already satisfied: certifi>=2017.4.17 in /usr/local/lib/python3.6/dist-packages (from requests->pytorch-transformers) (2020.11.8)\n",
            "Requirement already satisfied: urllib3!=1.25.0,!=1.25.1,<1.26,>=1.21.1 in /usr/local/lib/python3.6/dist-packages (from requests->pytorch-transformers) (1.24.3)\n",
            "Requirement already satisfied: idna<3,>=2.5 in /usr/local/lib/python3.6/dist-packages (from requests->pytorch-transformers) (2.10)\n",
            "Requirement already satisfied: chardet<4,>=3.0.2 in /usr/local/lib/python3.6/dist-packages (from requests->pytorch-transformers) (3.0.4)\n",
            "Collecting botocore<1.20.0,>=1.19.33\n",
            "\u001b[?25l  Downloading https://files.pythonhosted.org/packages/76/3e/5f64c7b492312069520d219ed56ce6b3d1821dab8251c18d25728578b58e/botocore-1.19.33-py2.py3-none-any.whl (7.0MB)\n",
            "\u001b[K     |████████████████████████████████| 7.0MB 39.0MB/s \n",
            "\u001b[?25hCollecting jmespath<1.0.0,>=0.7.1\n",
            "  Downloading https://files.pythonhosted.org/packages/07/cb/5f001272b6faeb23c1c9e0acc04d48eaaf5c862c17709d20e3469c6e0139/jmespath-0.10.0-py2.py3-none-any.whl\n",
            "Collecting s3transfer<0.4.0,>=0.3.0\n",
            "\u001b[?25l  Downloading https://files.pythonhosted.org/packages/69/79/e6afb3d8b0b4e96cefbdc690f741d7dd24547ff1f94240c997a26fa908d3/s3transfer-0.3.3-py2.py3-none-any.whl (69kB)\n",
            "\u001b[K     |████████████████████████████████| 71kB 6.8MB/s \n",
            "\u001b[?25hRequirement already satisfied: typing-extensions in /usr/local/lib/python3.6/dist-packages (from torch>=1.0.0->pytorch-transformers) (3.7.4.3)\n",
            "Requirement already satisfied: dataclasses in /usr/local/lib/python3.6/dist-packages (from torch>=1.0.0->pytorch-transformers) (0.8)\n",
            "Requirement already satisfied: future in /usr/local/lib/python3.6/dist-packages (from torch>=1.0.0->pytorch-transformers) (0.16.0)\n",
            "Requirement already satisfied: six in /usr/local/lib/python3.6/dist-packages (from sacremoses->pytorch-transformers) (1.15.0)\n",
            "Requirement already satisfied: click in /usr/local/lib/python3.6/dist-packages (from sacremoses->pytorch-transformers) (7.1.2)\n",
            "Requirement already satisfied: joblib in /usr/local/lib/python3.6/dist-packages (from sacremoses->pytorch-transformers) (0.17.0)\n",
            "Requirement already satisfied: python-dateutil<3.0.0,>=2.1 in /usr/local/lib/python3.6/dist-packages (from botocore<1.20.0,>=1.19.33->boto3->pytorch-transformers) (2.8.1)\n",
            "Building wheels for collected packages: boto3, sacremoses\n",
            "  Building wheel for boto3 (setup.py) ... \u001b[?25l\u001b[?25hdone\n",
            "  Created wheel for boto3: filename=boto3-1.16.33-py2.py3-none-any.whl size=128451 sha256=7a99f54c3b2c5f4e422383ee8bfc8cfa3404c6980259e40198fc9048a841a703\n",
            "  Stored in directory: /root/.cache/pip/wheels/28/c0/ba/5f9cce3a8686eea945fd594ae8fcdec24b1bd7402d3d065a47\n",
            "  Building wheel for sacremoses (setup.py) ... \u001b[?25l\u001b[?25hdone\n",
            "  Created wheel for sacremoses: filename=sacremoses-0.0.43-cp36-none-any.whl size=893257 sha256=17ced67ee646a14ca7a49ae07a6ddff61f6bb301a9d7cc4ba32d7a9a5142e18f\n",
            "  Stored in directory: /root/.cache/pip/wheels/29/3c/fd/7ce5c3f0666dab31a50123635e6fb5e19ceb42ce38d4e58f45\n",
            "Successfully built boto3 sacremoses\n",
            "\u001b[31mERROR: botocore 1.19.33 has requirement urllib3<1.27,>=1.25.4; python_version != \"3.4\", but you'll have urllib3 1.24.3 which is incompatible.\u001b[0m\n",
            "Installing collected packages: jmespath, botocore, s3transfer, boto3, sacremoses, sentencepiece, pytorch-transformers\n",
            "Successfully installed boto3-1.16.33 botocore-1.19.33 jmespath-0.10.0 pytorch-transformers-1.2.0 s3transfer-0.3.3 sacremoses-0.0.43 sentencepiece-0.1.94\n"
          ],
          "name": "stdout"
        }
      ]
    },
    {
      "cell_type": "code",
      "metadata": {
        "id": "0P5_1cOOb8LU",
        "outputId": "b957fdea-1e5d-476a-c759-1cdd43471ccf",
        "colab": {
          "base_uri": "https://localhost:8080/"
        }
      },
      "source": [
        "!pip install utils"
      ],
      "execution_count": 22,
      "outputs": [
        {
          "output_type": "stream",
          "text": [
            "Collecting utils\n",
            "  Downloading https://files.pythonhosted.org/packages/55/e6/c2d2b2703e7debc8b501caae0e6f7ead148fd0faa3c8131292a599930029/utils-1.0.1-py2.py3-none-any.whl\n",
            "Installing collected packages: utils\n",
            "Successfully installed utils-1.0.1\n"
          ],
          "name": "stdout"
        }
      ]
    },
    {
      "cell_type": "code",
      "metadata": {
        "id": "FG6KqKlmcEm_"
      },
      "source": [
        ""
      ],
      "execution_count": null,
      "outputs": []
    }
  ]
}